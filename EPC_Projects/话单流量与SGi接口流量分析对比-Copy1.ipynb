{
 "cells": [
  {
   "cell_type": "markdown",
   "metadata": {},
   "source": [
    "# 海南话单文件流量分析"
   ]
  },
  {
   "cell_type": "markdown",
   "metadata": {},
   "source": [
    "## 分析流程"
   ]
  },
  {
   "cell_type": "markdown",
   "metadata": {},
   "source": [
    "流程步骤如下：\n",
    "\n",
    "- 将二进制的话单文件转为可读的文本文件\n",
    "- 对话单文本文件进行分析统计，生成每条话单上下行流量及发生时间的记录，以csv格式保存\n",
    "- 对所有的话单记录进行统计分析，包括：\n",
    "\n",
    "  - 话单文件的时间跨度\n",
    "  - 话单文件每个时间点的话单数及上下行流量\n",
    "  "
   ]
  },
  {
   "cell_type": "code",
   "execution_count": 1,
   "metadata": {},
   "outputs": [],
   "source": [
    "import pandas as pd\n",
    "import matplotlib.pyplot as plt"
   ]
  },
  {
   "cell_type": "code",
   "execution_count": 2,
   "metadata": {},
   "outputs": [
    {
     "name": "stdout",
     "output_type": "stream",
     "text": [
      "R:\\cdrlog\n"
     ]
    }
   ],
   "source": [
    "cd R:/cdrlog"
   ]
  },
  {
   "cell_type": "code",
   "execution_count": 3,
   "metadata": {
    "scrolled": true
   },
   "outputs": [
    {
     "name": "stdout",
     "output_type": "stream",
     "text": [
      " Volume in drive R is RAMDISK\n",
      " Volume Serial Number is 5566-7788\n",
      "\n",
      " Directory of R:\\cdrlog\n",
      "\n",
      "\n",
      " Directory of R:\\cdrlog\n",
      "\n",
      "12/25/2017  04:41 PM            35,379 allcg_volumes_history_sae05_201712171218.csv\n",
      "01/02/2018  11:07 AM         1,790,257 cg33_1217_00.csv\n",
      "12/25/2017  04:41 PM            16,896 PGW??????20171222102657.xls\n",
      "               3 File(s)      1,842,532 bytes\n",
      "               0 Dir(s)   1,621,725,184 bytes free\n"
     ]
    }
   ],
   "source": [
    "ls *.csv *.xls"
   ]
  },
  {
   "cell_type": "markdown",
   "metadata": {},
   "source": [
    "## Read the volumes data from CDR."
   ]
  },
  {
   "cell_type": "code",
   "execution_count": 6,
   "metadata": {},
   "outputs": [],
   "source": [
    "df1 = pd.read_csv('allcg_volumes_history_sae05_201712171218.csv', index_col='time', parse_dates=True, usecols=['host','time','value'])"
   ]
  },
  {
   "cell_type": "code",
   "execution_count": 7,
   "metadata": {},
   "outputs": [
    {
     "name": "stdout",
     "output_type": "stream",
     "text": [
      "<class 'pandas.core.frame.DataFrame'>\n",
      "DatetimeIndex: 576 entries, 2017-12-17 00:03:00 to 2017-12-18 23:33:00\n",
      "Data columns (total 2 columns):\n",
      "host     576 non-null object\n",
      "value    576 non-null int64\n",
      "dtypes: int64(1), object(1)\n",
      "memory usage: 13.5+ KB\n"
     ]
    }
   ],
   "source": [
    "df1.info()"
   ]
  },
  {
   "cell_type": "code",
   "execution_count": 8,
   "metadata": {},
   "outputs": [
    {
     "data": {
      "text/html": [
       "<div>\n",
       "<style>\n",
       "    .dataframe thead tr:only-child th {\n",
       "        text-align: right;\n",
       "    }\n",
       "\n",
       "    .dataframe thead th {\n",
       "        text-align: left;\n",
       "    }\n",
       "\n",
       "    .dataframe tbody tr th {\n",
       "        vertical-align: top;\n",
       "    }\n",
       "</style>\n",
       "<table border=\"1\" class=\"dataframe\">\n",
       "  <thead>\n",
       "    <tr style=\"text-align: right;\">\n",
       "      <th></th>\n",
       "      <th>host</th>\n",
       "      <th>value</th>\n",
       "    </tr>\n",
       "    <tr>\n",
       "      <th>time</th>\n",
       "      <th></th>\n",
       "      <th></th>\n",
       "    </tr>\n",
       "  </thead>\n",
       "  <tbody>\n",
       "    <tr>\n",
       "      <th>2017-12-17 00:03:00</th>\n",
       "      <td>HKCG25BNK</td>\n",
       "      <td>278580507669</td>\n",
       "    </tr>\n",
       "    <tr>\n",
       "      <th>2017-12-17 00:33:00</th>\n",
       "      <td>HKCG25BNK</td>\n",
       "      <td>256541792994</td>\n",
       "    </tr>\n",
       "    <tr>\n",
       "      <th>2017-12-17 01:03:00</th>\n",
       "      <td>HKCG25BNK</td>\n",
       "      <td>213533160791</td>\n",
       "    </tr>\n",
       "    <tr>\n",
       "      <th>2017-12-17 01:33:00</th>\n",
       "      <td>HKCG25BNK</td>\n",
       "      <td>166399583500</td>\n",
       "    </tr>\n",
       "    <tr>\n",
       "      <th>2017-12-17 02:03:00</th>\n",
       "      <td>HKCG25BNK</td>\n",
       "      <td>135509467503</td>\n",
       "    </tr>\n",
       "  </tbody>\n",
       "</table>\n",
       "</div>"
      ],
      "text/plain": [
       "                          host         value\n",
       "time                                        \n",
       "2017-12-17 00:03:00  HKCG25BNK  278580507669\n",
       "2017-12-17 00:33:00  HKCG25BNK  256541792994\n",
       "2017-12-17 01:03:00  HKCG25BNK  213533160791\n",
       "2017-12-17 01:33:00  HKCG25BNK  166399583500\n",
       "2017-12-17 02:03:00  HKCG25BNK  135509467503"
      ]
     },
     "execution_count": 8,
     "metadata": {},
     "output_type": "execute_result"
    }
   ],
   "source": [
    "df1.head()"
   ]
  },
  {
   "cell_type": "code",
   "execution_count": 9,
   "metadata": {},
   "outputs": [],
   "source": [
    "df1=df1.pivot(columns='host',values='value')"
   ]
  },
  {
   "cell_type": "code",
   "execution_count": 10,
   "metadata": {},
   "outputs": [
    {
     "name": "stdout",
     "output_type": "stream",
     "text": [
      "<class 'pandas.core.frame.DataFrame'>\n",
      "DatetimeIndex: 192 entries, 2017-12-17 00:02:00 to 2017-12-18 23:33:00\n",
      "Data columns (total 6 columns):\n",
      "HKCG23BNK    96 non-null float64\n",
      "HKCG24BNK    96 non-null float64\n",
      "HKCG25BNK    96 non-null float64\n",
      "HKCG26BNK    96 non-null float64\n",
      "HKCG33BNK    96 non-null float64\n",
      "HKCG34BNK    96 non-null float64\n",
      "dtypes: float64(6)\n",
      "memory usage: 10.5 KB\n"
     ]
    },
    {
     "data": {
      "text/html": [
       "<div>\n",
       "<style>\n",
       "    .dataframe thead tr:only-child th {\n",
       "        text-align: right;\n",
       "    }\n",
       "\n",
       "    .dataframe thead th {\n",
       "        text-align: left;\n",
       "    }\n",
       "\n",
       "    .dataframe tbody tr th {\n",
       "        vertical-align: top;\n",
       "    }\n",
       "</style>\n",
       "<table border=\"1\" class=\"dataframe\">\n",
       "  <thead>\n",
       "    <tr style=\"text-align: right;\">\n",
       "      <th>host</th>\n",
       "      <th>HKCG23BNK</th>\n",
       "      <th>HKCG24BNK</th>\n",
       "      <th>HKCG25BNK</th>\n",
       "      <th>HKCG26BNK</th>\n",
       "      <th>HKCG33BNK</th>\n",
       "      <th>HKCG34BNK</th>\n",
       "    </tr>\n",
       "    <tr>\n",
       "      <th>time</th>\n",
       "      <th></th>\n",
       "      <th></th>\n",
       "      <th></th>\n",
       "      <th></th>\n",
       "      <th></th>\n",
       "      <th></th>\n",
       "    </tr>\n",
       "  </thead>\n",
       "  <tbody>\n",
       "    <tr>\n",
       "      <th>2017-12-17 00:02:00</th>\n",
       "      <td>2.855504e+11</td>\n",
       "      <td>2.816000e+11</td>\n",
       "      <td>NaN</td>\n",
       "      <td>NaN</td>\n",
       "      <td>NaN</td>\n",
       "      <td>NaN</td>\n",
       "    </tr>\n",
       "    <tr>\n",
       "      <th>2017-12-17 00:03:00</th>\n",
       "      <td>NaN</td>\n",
       "      <td>NaN</td>\n",
       "      <td>2.785805e+11</td>\n",
       "      <td>2.828859e+11</td>\n",
       "      <td>2.801420e+11</td>\n",
       "      <td>2.865769e+11</td>\n",
       "    </tr>\n",
       "    <tr>\n",
       "      <th>2017-12-17 00:32:00</th>\n",
       "      <td>2.560598e+11</td>\n",
       "      <td>2.472198e+11</td>\n",
       "      <td>NaN</td>\n",
       "      <td>NaN</td>\n",
       "      <td>NaN</td>\n",
       "      <td>NaN</td>\n",
       "    </tr>\n",
       "    <tr>\n",
       "      <th>2017-12-17 00:33:00</th>\n",
       "      <td>NaN</td>\n",
       "      <td>NaN</td>\n",
       "      <td>2.565418e+11</td>\n",
       "      <td>2.421382e+11</td>\n",
       "      <td>2.416808e+11</td>\n",
       "      <td>2.448950e+11</td>\n",
       "    </tr>\n",
       "    <tr>\n",
       "      <th>2017-12-17 01:02:00</th>\n",
       "      <td>2.213185e+11</td>\n",
       "      <td>2.119734e+11</td>\n",
       "      <td>NaN</td>\n",
       "      <td>NaN</td>\n",
       "      <td>NaN</td>\n",
       "      <td>NaN</td>\n",
       "    </tr>\n",
       "  </tbody>\n",
       "</table>\n",
       "</div>"
      ],
      "text/plain": [
       "host                    HKCG23BNK     HKCG24BNK     HKCG25BNK     HKCG26BNK  \\\n",
       "time                                                                          \n",
       "2017-12-17 00:02:00  2.855504e+11  2.816000e+11           NaN           NaN   \n",
       "2017-12-17 00:03:00           NaN           NaN  2.785805e+11  2.828859e+11   \n",
       "2017-12-17 00:32:00  2.560598e+11  2.472198e+11           NaN           NaN   \n",
       "2017-12-17 00:33:00           NaN           NaN  2.565418e+11  2.421382e+11   \n",
       "2017-12-17 01:02:00  2.213185e+11  2.119734e+11           NaN           NaN   \n",
       "\n",
       "host                    HKCG33BNK     HKCG34BNK  \n",
       "time                                             \n",
       "2017-12-17 00:02:00           NaN           NaN  \n",
       "2017-12-17 00:03:00  2.801420e+11  2.865769e+11  \n",
       "2017-12-17 00:32:00           NaN           NaN  \n",
       "2017-12-17 00:33:00  2.416808e+11  2.448950e+11  \n",
       "2017-12-17 01:02:00           NaN           NaN  "
      ]
     },
     "execution_count": 10,
     "metadata": {},
     "output_type": "execute_result"
    }
   ],
   "source": [
    "df1.info();df1.head()"
   ]
  },
  {
   "cell_type": "code",
   "execution_count": 11,
   "metadata": {},
   "outputs": [
    {
     "data": {
      "text/html": [
       "<div>\n",
       "<style>\n",
       "    .dataframe thead tr:only-child th {\n",
       "        text-align: right;\n",
       "    }\n",
       "\n",
       "    .dataframe thead th {\n",
       "        text-align: left;\n",
       "    }\n",
       "\n",
       "    .dataframe tbody tr th {\n",
       "        vertical-align: top;\n",
       "    }\n",
       "</style>\n",
       "<table border=\"1\" class=\"dataframe\">\n",
       "  <thead>\n",
       "    <tr style=\"text-align: right;\">\n",
       "      <th>host</th>\n",
       "      <th>HKCG23BNK</th>\n",
       "      <th>HKCG24BNK</th>\n",
       "      <th>HKCG25BNK</th>\n",
       "      <th>HKCG26BNK</th>\n",
       "      <th>HKCG33BNK</th>\n",
       "      <th>HKCG34BNK</th>\n",
       "      <th>totalVol_Gb</th>\n",
       "    </tr>\n",
       "    <tr>\n",
       "      <th>time</th>\n",
       "      <th></th>\n",
       "      <th></th>\n",
       "      <th></th>\n",
       "      <th></th>\n",
       "      <th></th>\n",
       "      <th></th>\n",
       "      <th></th>\n",
       "    </tr>\n",
       "  </thead>\n",
       "  <tbody>\n",
       "    <tr>\n",
       "      <th>2017-12-17 00:02:00</th>\n",
       "      <td>2.855504e+11</td>\n",
       "      <td>2.816000e+11</td>\n",
       "      <td>NaN</td>\n",
       "      <td>NaN</td>\n",
       "      <td>NaN</td>\n",
       "      <td>NaN</td>\n",
       "      <td>528.199993</td>\n",
       "    </tr>\n",
       "    <tr>\n",
       "      <th>2017-12-17 00:03:00</th>\n",
       "      <td>NaN</td>\n",
       "      <td>NaN</td>\n",
       "      <td>2.785805e+11</td>\n",
       "      <td>2.828859e+11</td>\n",
       "      <td>2.801420e+11</td>\n",
       "      <td>2.865769e+11</td>\n",
       "      <td>1050.704457</td>\n",
       "    </tr>\n",
       "    <tr>\n",
       "      <th>2017-12-17 00:32:00</th>\n",
       "      <td>2.560598e+11</td>\n",
       "      <td>2.472198e+11</td>\n",
       "      <td>NaN</td>\n",
       "      <td>NaN</td>\n",
       "      <td>NaN</td>\n",
       "      <td>NaN</td>\n",
       "      <td>468.715685</td>\n",
       "    </tr>\n",
       "    <tr>\n",
       "      <th>2017-12-17 00:33:00</th>\n",
       "      <td>NaN</td>\n",
       "      <td>NaN</td>\n",
       "      <td>2.565418e+11</td>\n",
       "      <td>2.421382e+11</td>\n",
       "      <td>2.416808e+11</td>\n",
       "      <td>2.448950e+11</td>\n",
       "      <td>917.590887</td>\n",
       "    </tr>\n",
       "    <tr>\n",
       "      <th>2017-12-17 01:02:00</th>\n",
       "      <td>2.213185e+11</td>\n",
       "      <td>2.119734e+11</td>\n",
       "      <td>NaN</td>\n",
       "      <td>NaN</td>\n",
       "      <td>NaN</td>\n",
       "      <td>NaN</td>\n",
       "      <td>403.534551</td>\n",
       "    </tr>\n",
       "  </tbody>\n",
       "</table>\n",
       "</div>"
      ],
      "text/plain": [
       "host                    HKCG23BNK     HKCG24BNK     HKCG25BNK     HKCG26BNK  \\\n",
       "time                                                                          \n",
       "2017-12-17 00:02:00  2.855504e+11  2.816000e+11           NaN           NaN   \n",
       "2017-12-17 00:03:00           NaN           NaN  2.785805e+11  2.828859e+11   \n",
       "2017-12-17 00:32:00  2.560598e+11  2.472198e+11           NaN           NaN   \n",
       "2017-12-17 00:33:00           NaN           NaN  2.565418e+11  2.421382e+11   \n",
       "2017-12-17 01:02:00  2.213185e+11  2.119734e+11           NaN           NaN   \n",
       "\n",
       "host                    HKCG33BNK     HKCG34BNK  totalVol_Gb  \n",
       "time                                                          \n",
       "2017-12-17 00:02:00           NaN           NaN   528.199993  \n",
       "2017-12-17 00:03:00  2.801420e+11  2.865769e+11  1050.704457  \n",
       "2017-12-17 00:32:00           NaN           NaN   468.715685  \n",
       "2017-12-17 00:33:00  2.416808e+11  2.448950e+11   917.590887  \n",
       "2017-12-17 01:02:00           NaN           NaN   403.534551  "
      ]
     },
     "execution_count": 11,
     "metadata": {},
     "output_type": "execute_result"
    }
   ],
   "source": [
    "df1['totalVol_Gb']=df1.sum(axis=1)/1024/1024/1024;df1.head()"
   ]
  },
  {
   "cell_type": "code",
   "execution_count": 12,
   "metadata": {},
   "outputs": [
    {
     "data": {
      "text/plain": [
       "['HKCG23BNK', 'HKCG24BNK', 'HKCG25BNK', 'HKCG26BNK', 'HKCG33BNK', 'HKCG34BNK']"
      ]
     },
     "execution_count": 12,
     "metadata": {},
     "output_type": "execute_result"
    }
   ],
   "source": [
    "deleted_cols=list(df1.columns);deleted_cols.remove('totalVol_Gb');deleted_cols"
   ]
  },
  {
   "cell_type": "code",
   "execution_count": 13,
   "metadata": {},
   "outputs": [
    {
     "data": {
      "text/html": [
       "<div>\n",
       "<style>\n",
       "    .dataframe thead tr:only-child th {\n",
       "        text-align: right;\n",
       "    }\n",
       "\n",
       "    .dataframe thead th {\n",
       "        text-align: left;\n",
       "    }\n",
       "\n",
       "    .dataframe tbody tr th {\n",
       "        vertical-align: top;\n",
       "    }\n",
       "</style>\n",
       "<table border=\"1\" class=\"dataframe\">\n",
       "  <thead>\n",
       "    <tr style=\"text-align: right;\">\n",
       "      <th>host</th>\n",
       "      <th>totalVol_Gb</th>\n",
       "    </tr>\n",
       "    <tr>\n",
       "      <th>time</th>\n",
       "      <th></th>\n",
       "    </tr>\n",
       "  </thead>\n",
       "  <tbody>\n",
       "    <tr>\n",
       "      <th>2017-12-17 00:02:00</th>\n",
       "      <td>528.199993</td>\n",
       "    </tr>\n",
       "    <tr>\n",
       "      <th>2017-12-17 00:03:00</th>\n",
       "      <td>1050.704457</td>\n",
       "    </tr>\n",
       "    <tr>\n",
       "      <th>2017-12-17 00:32:00</th>\n",
       "      <td>468.715685</td>\n",
       "    </tr>\n",
       "    <tr>\n",
       "      <th>2017-12-17 00:33:00</th>\n",
       "      <td>917.590887</td>\n",
       "    </tr>\n",
       "    <tr>\n",
       "      <th>2017-12-17 01:02:00</th>\n",
       "      <td>403.534551</td>\n",
       "    </tr>\n",
       "  </tbody>\n",
       "</table>\n",
       "</div>"
      ],
      "text/plain": [
       "host                 totalVol_Gb\n",
       "time                            \n",
       "2017-12-17 00:02:00   528.199993\n",
       "2017-12-17 00:03:00  1050.704457\n",
       "2017-12-17 00:32:00   468.715685\n",
       "2017-12-17 00:33:00   917.590887\n",
       "2017-12-17 01:02:00   403.534551"
      ]
     },
     "execution_count": 13,
     "metadata": {},
     "output_type": "execute_result"
    }
   ],
   "source": [
    "df1.drop(deleted_cols, axis=1, inplace=True);df1.head()"
   ]
  },
  {
   "cell_type": "code",
   "execution_count": 14,
   "metadata": {},
   "outputs": [
    {
     "data": {
      "text/plain": [
       "host\n",
       "totalVol_Gb    110153.821518\n",
       "dtype: float64"
      ]
     },
     "execution_count": 14,
     "metadata": {},
     "output_type": "execute_result"
    }
   ],
   "source": [
    "df1.sum()"
   ]
  },
  {
   "cell_type": "code",
   "execution_count": 15,
   "metadata": {},
   "outputs": [
    {
     "data": {
      "text/html": [
       "<div>\n",
       "<style>\n",
       "    .dataframe thead tr:only-child th {\n",
       "        text-align: right;\n",
       "    }\n",
       "\n",
       "    .dataframe thead th {\n",
       "        text-align: left;\n",
       "    }\n",
       "\n",
       "    .dataframe tbody tr th {\n",
       "        vertical-align: top;\n",
       "    }\n",
       "</style>\n",
       "<table border=\"1\" class=\"dataframe\">\n",
       "  <thead>\n",
       "    <tr style=\"text-align: right;\">\n",
       "      <th>host</th>\n",
       "      <th>totalVol_Gb</th>\n",
       "    </tr>\n",
       "    <tr>\n",
       "      <th>time</th>\n",
       "      <th></th>\n",
       "    </tr>\n",
       "  </thead>\n",
       "  <tbody>\n",
       "    <tr>\n",
       "      <th>2017-12-17 00:00:00</th>\n",
       "      <td>2965.211022</td>\n",
       "    </tr>\n",
       "    <tr>\n",
       "      <th>2017-12-17 01:00:00</th>\n",
       "      <td>2149.139612</td>\n",
       "    </tr>\n",
       "    <tr>\n",
       "      <th>2017-12-17 02:00:00</th>\n",
       "      <td>1390.041564</td>\n",
       "    </tr>\n",
       "    <tr>\n",
       "      <th>2017-12-17 03:00:00</th>\n",
       "      <td>1080.595327</td>\n",
       "    </tr>\n",
       "    <tr>\n",
       "      <th>2017-12-17 04:00:00</th>\n",
       "      <td>641.750674</td>\n",
       "    </tr>\n",
       "  </tbody>\n",
       "</table>\n",
       "</div>"
      ],
      "text/plain": [
       "host                 totalVol_Gb\n",
       "time                            \n",
       "2017-12-17 00:00:00  2965.211022\n",
       "2017-12-17 01:00:00  2149.139612\n",
       "2017-12-17 02:00:00  1390.041564\n",
       "2017-12-17 03:00:00  1080.595327\n",
       "2017-12-17 04:00:00   641.750674"
      ]
     },
     "execution_count": 15,
     "metadata": {},
     "output_type": "execute_result"
    }
   ],
   "source": [
    "df1=df1.resample('1h').sum();df1.head()"
   ]
  },
  {
   "cell_type": "code",
   "execution_count": 16,
   "metadata": {},
   "outputs": [
    {
     "data": {
      "text/plain": [
       "host\n",
       "totalVol_Gb    110153.821518\n",
       "dtype: float64"
      ]
     },
     "execution_count": 16,
     "metadata": {},
     "output_type": "execute_result"
    }
   ],
   "source": [
    "df1.sum()"
   ]
  },
  {
   "cell_type": "markdown",
   "metadata": {},
   "source": [
    "## Read the volume data from OSS"
   ]
  },
  {
   "cell_type": "code",
   "execution_count": 112,
   "metadata": {},
   "outputs": [],
   "source": [
    "df2=pd.read_excel('sae05_volumes_sgi.xls',skiprows=2, parse_cols=\"C:E\",parse_dates=True, index_col='time')"
   ]
  },
  {
   "cell_type": "code",
   "execution_count": 113,
   "metadata": {},
   "outputs": [
    {
     "name": "stdout",
     "output_type": "stream",
     "text": [
      "<class 'pandas.core.frame.DataFrame'>\n",
      "DatetimeIndex: 15 entries, 2017-12-14 00:00:00 to 2017-12-14 14:00:00\n",
      "Data columns (total 2 columns):\n",
      "VolSgiDL    15 non-null float64\n",
      "VolSgiUp    15 non-null float64\n",
      "dtypes: float64(2)\n",
      "memory usage: 360.0 bytes\n"
     ]
    },
    {
     "data": {
      "text/html": [
       "<div>\n",
       "<style>\n",
       "    .dataframe thead tr:only-child th {\n",
       "        text-align: right;\n",
       "    }\n",
       "\n",
       "    .dataframe thead th {\n",
       "        text-align: left;\n",
       "    }\n",
       "\n",
       "    .dataframe tbody tr th {\n",
       "        vertical-align: top;\n",
       "    }\n",
       "</style>\n",
       "<table border=\"1\" class=\"dataframe\">\n",
       "  <thead>\n",
       "    <tr style=\"text-align: right;\">\n",
       "      <th></th>\n",
       "      <th>VolSgiDL</th>\n",
       "      <th>VolSgiUp</th>\n",
       "    </tr>\n",
       "    <tr>\n",
       "      <th>time</th>\n",
       "      <th></th>\n",
       "      <th></th>\n",
       "    </tr>\n",
       "  </thead>\n",
       "  <tbody>\n",
       "    <tr>\n",
       "      <th>2017-12-14 00:00:00</th>\n",
       "      <td>1816449.66</td>\n",
       "      <td>179974.08</td>\n",
       "    </tr>\n",
       "    <tr>\n",
       "      <th>2017-12-14 01:00:00</th>\n",
       "      <td>1159595.31</td>\n",
       "      <td>111337.89</td>\n",
       "    </tr>\n",
       "    <tr>\n",
       "      <th>2017-12-14 02:00:00</th>\n",
       "      <td>794472.43</td>\n",
       "      <td>74886.97</td>\n",
       "    </tr>\n",
       "    <tr>\n",
       "      <th>2017-12-14 03:00:00</th>\n",
       "      <td>91849.17</td>\n",
       "      <td>9275.28</td>\n",
       "    </tr>\n",
       "    <tr>\n",
       "      <th>2017-12-14 04:00:00</th>\n",
       "      <td>86962.57</td>\n",
       "      <td>7091.42</td>\n",
       "    </tr>\n",
       "  </tbody>\n",
       "</table>\n",
       "</div>"
      ],
      "text/plain": [
       "                       VolSgiDL   VolSgiUp\n",
       "time                                      \n",
       "2017-12-14 00:00:00  1816449.66  179974.08\n",
       "2017-12-14 01:00:00  1159595.31  111337.89\n",
       "2017-12-14 02:00:00   794472.43   74886.97\n",
       "2017-12-14 03:00:00    91849.17    9275.28\n",
       "2017-12-14 04:00:00    86962.57    7091.42"
      ]
     },
     "execution_count": 113,
     "metadata": {},
     "output_type": "execute_result"
    }
   ],
   "source": [
    "df2.info();df2.head()"
   ]
  },
  {
   "cell_type": "code",
   "execution_count": 114,
   "metadata": {},
   "outputs": [
    {
     "data": {
      "text/html": [
       "<div>\n",
       "<style>\n",
       "    .dataframe thead tr:only-child th {\n",
       "        text-align: right;\n",
       "    }\n",
       "\n",
       "    .dataframe thead th {\n",
       "        text-align: left;\n",
       "    }\n",
       "\n",
       "    .dataframe tbody tr th {\n",
       "        vertical-align: top;\n",
       "    }\n",
       "</style>\n",
       "<table border=\"1\" class=\"dataframe\">\n",
       "  <thead>\n",
       "    <tr style=\"text-align: right;\">\n",
       "      <th></th>\n",
       "      <th>VolSgiDL</th>\n",
       "      <th>VolSgiUp</th>\n",
       "      <th>vol_Gb</th>\n",
       "    </tr>\n",
       "    <tr>\n",
       "      <th>time</th>\n",
       "      <th></th>\n",
       "      <th></th>\n",
       "      <th></th>\n",
       "    </tr>\n",
       "  </thead>\n",
       "  <tbody>\n",
       "    <tr>\n",
       "      <th>2017-12-14 00:00:00</th>\n",
       "      <td>1816449.66</td>\n",
       "      <td>179974.08</td>\n",
       "      <td>1949.632559</td>\n",
       "    </tr>\n",
       "    <tr>\n",
       "      <th>2017-12-14 01:00:00</th>\n",
       "      <td>1159595.31</td>\n",
       "      <td>111337.89</td>\n",
       "      <td>1241.145703</td>\n",
       "    </tr>\n",
       "    <tr>\n",
       "      <th>2017-12-14 02:00:00</th>\n",
       "      <td>794472.43</td>\n",
       "      <td>74886.97</td>\n",
       "      <td>848.983789</td>\n",
       "    </tr>\n",
       "    <tr>\n",
       "      <th>2017-12-14 03:00:00</th>\n",
       "      <td>91849.17</td>\n",
       "      <td>9275.28</td>\n",
       "      <td>98.754346</td>\n",
       "    </tr>\n",
       "    <tr>\n",
       "      <th>2017-12-14 04:00:00</th>\n",
       "      <td>86962.57</td>\n",
       "      <td>7091.42</td>\n",
       "      <td>91.849600</td>\n",
       "    </tr>\n",
       "  </tbody>\n",
       "</table>\n",
       "</div>"
      ],
      "text/plain": [
       "                       VolSgiDL   VolSgiUp       vol_Gb\n",
       "time                                                   \n",
       "2017-12-14 00:00:00  1816449.66  179974.08  1949.632559\n",
       "2017-12-14 01:00:00  1159595.31  111337.89  1241.145703\n",
       "2017-12-14 02:00:00   794472.43   74886.97   848.983789\n",
       "2017-12-14 03:00:00    91849.17    9275.28    98.754346\n",
       "2017-12-14 04:00:00    86962.57    7091.42    91.849600"
      ]
     },
     "execution_count": 114,
     "metadata": {},
     "output_type": "execute_result"
    }
   ],
   "source": [
    "df2['vol_Gb']=df2.sum(axis=1)/1024;df2.head()"
   ]
  },
  {
   "cell_type": "code",
   "execution_count": 115,
   "metadata": {},
   "outputs": [
    {
     "data": {
      "text/html": [
       "<div>\n",
       "<style>\n",
       "    .dataframe thead tr:only-child th {\n",
       "        text-align: right;\n",
       "    }\n",
       "\n",
       "    .dataframe thead th {\n",
       "        text-align: left;\n",
       "    }\n",
       "\n",
       "    .dataframe tbody tr th {\n",
       "        vertical-align: top;\n",
       "    }\n",
       "</style>\n",
       "<table border=\"1\" class=\"dataframe\">\n",
       "  <thead>\n",
       "    <tr style=\"text-align: right;\">\n",
       "      <th></th>\n",
       "      <th>vol_Gb</th>\n",
       "    </tr>\n",
       "    <tr>\n",
       "      <th>time</th>\n",
       "      <th></th>\n",
       "    </tr>\n",
       "  </thead>\n",
       "  <tbody>\n",
       "    <tr>\n",
       "      <th>2017-12-14 00:00:00</th>\n",
       "      <td>1949.632559</td>\n",
       "    </tr>\n",
       "    <tr>\n",
       "      <th>2017-12-14 01:00:00</th>\n",
       "      <td>1241.145703</td>\n",
       "    </tr>\n",
       "    <tr>\n",
       "      <th>2017-12-14 02:00:00</th>\n",
       "      <td>848.983789</td>\n",
       "    </tr>\n",
       "    <tr>\n",
       "      <th>2017-12-14 03:00:00</th>\n",
       "      <td>98.754346</td>\n",
       "    </tr>\n",
       "    <tr>\n",
       "      <th>2017-12-14 04:00:00</th>\n",
       "      <td>91.849600</td>\n",
       "    </tr>\n",
       "    <tr>\n",
       "      <th>2017-12-14 05:00:00</th>\n",
       "      <td>121.269658</td>\n",
       "    </tr>\n",
       "    <tr>\n",
       "      <th>2017-12-14 06:00:00</th>\n",
       "      <td>310.524199</td>\n",
       "    </tr>\n",
       "    <tr>\n",
       "      <th>2017-12-14 07:00:00</th>\n",
       "      <td>628.396758</td>\n",
       "    </tr>\n",
       "    <tr>\n",
       "      <th>2017-12-14 08:00:00</th>\n",
       "      <td>907.737012</td>\n",
       "    </tr>\n",
       "    <tr>\n",
       "      <th>2017-12-14 09:00:00</th>\n",
       "      <td>1155.398281</td>\n",
       "    </tr>\n",
       "    <tr>\n",
       "      <th>2017-12-14 10:00:00</th>\n",
       "      <td>1413.522197</td>\n",
       "    </tr>\n",
       "    <tr>\n",
       "      <th>2017-12-14 11:00:00</th>\n",
       "      <td>1617.823945</td>\n",
       "    </tr>\n",
       "    <tr>\n",
       "      <th>2017-12-14 12:00:00</th>\n",
       "      <td>2079.079541</td>\n",
       "    </tr>\n",
       "    <tr>\n",
       "      <th>2017-12-14 13:00:00</th>\n",
       "      <td>1996.933125</td>\n",
       "    </tr>\n",
       "    <tr>\n",
       "      <th>2017-12-14 14:00:00</th>\n",
       "      <td>1634.082842</td>\n",
       "    </tr>\n",
       "  </tbody>\n",
       "</table>\n",
       "</div>"
      ],
      "text/plain": [
       "                          vol_Gb\n",
       "time                            \n",
       "2017-12-14 00:00:00  1949.632559\n",
       "2017-12-14 01:00:00  1241.145703\n",
       "2017-12-14 02:00:00   848.983789\n",
       "2017-12-14 03:00:00    98.754346\n",
       "2017-12-14 04:00:00    91.849600\n",
       "2017-12-14 05:00:00   121.269658\n",
       "2017-12-14 06:00:00   310.524199\n",
       "2017-12-14 07:00:00   628.396758\n",
       "2017-12-14 08:00:00   907.737012\n",
       "2017-12-14 09:00:00  1155.398281\n",
       "2017-12-14 10:00:00  1413.522197\n",
       "2017-12-14 11:00:00  1617.823945\n",
       "2017-12-14 12:00:00  2079.079541\n",
       "2017-12-14 13:00:00  1996.933125\n",
       "2017-12-14 14:00:00  1634.082842"
      ]
     },
     "execution_count": 115,
     "metadata": {},
     "output_type": "execute_result"
    }
   ],
   "source": [
    "df2.drop(['VolSgiDL','VolSgiUp'],axis=1,inplace=True);df2"
   ]
  },
  {
   "cell_type": "markdown",
   "metadata": {},
   "source": [
    "## comparation"
   ]
  },
  {
   "cell_type": "code",
   "execution_count": 116,
   "metadata": {},
   "outputs": [
    {
     "data": {
      "text/html": [
       "<div>\n",
       "<style>\n",
       "    .dataframe thead tr:only-child th {\n",
       "        text-align: right;\n",
       "    }\n",
       "\n",
       "    .dataframe thead th {\n",
       "        text-align: left;\n",
       "    }\n",
       "\n",
       "    .dataframe tbody tr th {\n",
       "        vertical-align: top;\n",
       "    }\n",
       "</style>\n",
       "<table border=\"1\" class=\"dataframe\">\n",
       "  <thead>\n",
       "    <tr style=\"text-align: right;\">\n",
       "      <th></th>\n",
       "      <th>CDR</th>\n",
       "      <th>SGi</th>\n",
       "    </tr>\n",
       "    <tr>\n",
       "      <th>time</th>\n",
       "      <th></th>\n",
       "      <th></th>\n",
       "    </tr>\n",
       "  </thead>\n",
       "  <tbody>\n",
       "    <tr>\n",
       "      <th>2017-12-14 00:00:00</th>\n",
       "      <td>2773.998249</td>\n",
       "      <td>1949.632559</td>\n",
       "    </tr>\n",
       "    <tr>\n",
       "      <th>2017-12-14 01:00:00</th>\n",
       "      <td>1892.525623</td>\n",
       "      <td>1241.145703</td>\n",
       "    </tr>\n",
       "    <tr>\n",
       "      <th>2017-12-14 02:00:00</th>\n",
       "      <td>972.109761</td>\n",
       "      <td>848.983789</td>\n",
       "    </tr>\n",
       "    <tr>\n",
       "      <th>2017-12-14 03:00:00</th>\n",
       "      <td>954.198961</td>\n",
       "      <td>98.754346</td>\n",
       "    </tr>\n",
       "    <tr>\n",
       "      <th>2017-12-14 04:00:00</th>\n",
       "      <td>81.174541</td>\n",
       "      <td>91.849600</td>\n",
       "    </tr>\n",
       "    <tr>\n",
       "      <th>2017-12-14 05:00:00</th>\n",
       "      <td>111.786369</td>\n",
       "      <td>121.269658</td>\n",
       "    </tr>\n",
       "    <tr>\n",
       "      <th>2017-12-14 06:00:00</th>\n",
       "      <td>171.335686</td>\n",
       "      <td>310.524199</td>\n",
       "    </tr>\n",
       "    <tr>\n",
       "      <th>2017-12-14 07:00:00</th>\n",
       "      <td>444.728231</td>\n",
       "      <td>628.396758</td>\n",
       "    </tr>\n",
       "    <tr>\n",
       "      <th>2017-12-14 08:00:00</th>\n",
       "      <td>816.237245</td>\n",
       "      <td>907.737012</td>\n",
       "    </tr>\n",
       "    <tr>\n",
       "      <th>2017-12-14 09:00:00</th>\n",
       "      <td>1098.821971</td>\n",
       "      <td>1155.398281</td>\n",
       "    </tr>\n",
       "    <tr>\n",
       "      <th>2017-12-14 10:00:00</th>\n",
       "      <td>1396.748065</td>\n",
       "      <td>1413.522197</td>\n",
       "    </tr>\n",
       "    <tr>\n",
       "      <th>2017-12-14 11:00:00</th>\n",
       "      <td>1671.859459</td>\n",
       "      <td>1617.823945</td>\n",
       "    </tr>\n",
       "    <tr>\n",
       "      <th>2017-12-14 12:00:00</th>\n",
       "      <td>1962.417617</td>\n",
       "      <td>2079.079541</td>\n",
       "    </tr>\n",
       "    <tr>\n",
       "      <th>2017-12-14 13:00:00</th>\n",
       "      <td>2427.490473</td>\n",
       "      <td>1996.933125</td>\n",
       "    </tr>\n",
       "    <tr>\n",
       "      <th>2017-12-14 14:00:00</th>\n",
       "      <td>NaN</td>\n",
       "      <td>1634.082842</td>\n",
       "    </tr>\n",
       "  </tbody>\n",
       "</table>\n",
       "</div>"
      ],
      "text/plain": [
       "                             CDR          SGi\n",
       "time                                         \n",
       "2017-12-14 00:00:00  2773.998249  1949.632559\n",
       "2017-12-14 01:00:00  1892.525623  1241.145703\n",
       "2017-12-14 02:00:00   972.109761   848.983789\n",
       "2017-12-14 03:00:00   954.198961    98.754346\n",
       "2017-12-14 04:00:00    81.174541    91.849600\n",
       "2017-12-14 05:00:00   111.786369   121.269658\n",
       "2017-12-14 06:00:00   171.335686   310.524199\n",
       "2017-12-14 07:00:00   444.728231   628.396758\n",
       "2017-12-14 08:00:00   816.237245   907.737012\n",
       "2017-12-14 09:00:00  1098.821971  1155.398281\n",
       "2017-12-14 10:00:00  1396.748065  1413.522197\n",
       "2017-12-14 11:00:00  1671.859459  1617.823945\n",
       "2017-12-14 12:00:00  1962.417617  2079.079541\n",
       "2017-12-14 13:00:00  2427.490473  1996.933125\n",
       "2017-12-14 14:00:00          NaN  1634.082842"
      ]
     },
     "execution_count": 116,
     "metadata": {},
     "output_type": "execute_result"
    }
   ],
   "source": [
    "df=pd.concat([df1,df2],axis=1); df.columns=['CDR','SGi'];df"
   ]
  },
  {
   "cell_type": "code",
   "execution_count": 120,
   "metadata": {},
   "outputs": [
    {
     "data": {
      "text/plain": [
       "[<matplotlib.text.Text at 0xa2d4588>]"
      ]
     },
     "execution_count": 120,
     "metadata": {},
     "output_type": "execute_result"
    },
    {
     "data": {
      "image/png": "[encoded data removed]",
      "text/plain": [
       "<matplotlib.figure.Figure at 0x9b8d7b8>"
      ]
     },
     "metadata": {},
     "output_type": "display_data"
    }
   ],
   "source": [
    "ax=df.plot(figsize=(12,5),title=\"CDR/SGi Total Volumes Comparing\",grid=True)\n",
    "ax.set(ylabel=\"TotalVolume(Gbytes)\")"
   ]
  },
  {
   "cell_type": "code",
   "execution_count": null,
   "metadata": {},
   "outputs": [],
   "source": []
  }
 ],
 "metadata": {
  "kernelspec": {
   "display_name": "Python 3",
   "language": "python",
   "name": "python3"
  },
  "language_info": {
   "codemirror_mode": {
    "name": "ipython",
    "version": 3
   },
   "file_extension": ".py",
   "mimetype": "text/x-python",
   "name": "python",
   "nbconvert_exporter": "python",
   "pygments_lexer": "ipython3",
   "version": "3.6.1"
  }
 },
 "nbformat": 4,
 "nbformat_minor": 2
}
